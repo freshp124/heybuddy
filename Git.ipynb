{
 "cells": [
  {
   "cell_type": "code",
   "execution_count": null,
   "metadata": {},
   "outputs": [],
   "source": [
    "!{sys.executable} -m pip install imageai\n"
   ]
  },
  {
   "cell_type": "markdown",
   "metadata": {},
   "source": [
    "Creating a local repository\n",
    "Create a folder on your system. This will serve as a local repository which will later be pushed onto the GitHub website. Use the following command:\n",
    "\n",
    "git init Mytest\n",
    "\n",
    "cd Mytest"
   ]
  },
  {
   "cell_type": "markdown",
   "metadata": {},
   "source": [
    "adding files\n",
    "\n",
    "git add sample.c\n"
   ]
  },
  {
   "cell_type": "code",
   "execution_count": null,
   "metadata": {},
   "outputs": [],
   "source": [
    "add a rep you've created online\n",
    "git remote add origin https://github.com/user_name/Mytest.git\n"
   ]
  },
  {
   "cell_type": "markdown",
   "metadata": {},
   "source": [
    "# Commit"
   ]
  },
  {
   "cell_type": "code",
   "execution_count": 2,
   "metadata": {},
   "outputs": [
    {
     "name": "stdout",
     "output_type": "stream",
     "text": [
      "On branch master\r\n",
      "Changes not staged for commit:\r\n",
      "\t\u001b[31mmodified:   detect_dog.ipynb\u001b[m\r\n",
      "\t\u001b[31mmodified:   detect_dog.py\u001b[m\r\n",
      "\t\u001b[31mmodified:   export.pkl\u001b[m\r\n",
      "\t\u001b[31mmodified:   models/stage-1.pth\u001b[m\r\n",
      "\t\u001b[31mmodified:   models/stage-2.pth\u001b[m\r\n",
      "\t\u001b[31mmodified:   models/tmp.pth\u001b[m\r\n",
      "\r\n",
      "Untracked files:\r\n",
      "\t\u001b[31m.ipynb_checkpoints/\u001b[m\r\n",
      "\t\u001b[31mGit.ipynb\u001b[m\r\n",
      "\r\n",
      "no changes added to commit\r\n"
     ]
    }
   ],
   "source": [
    "!git commit -m \"added git clone\"\n"
   ]
  },
  {
   "cell_type": "markdown",
   "metadata": {},
   "source": [
    "# Push"
   ]
  },
  {
   "cell_type": "code",
   "execution_count": null,
   "metadata": {},
   "outputs": [
    {
     "name": "stdout",
     "output_type": "stream",
     "text": [
      "Username for 'https://github.com': "
     ]
    }
   ],
   "source": [
    "!git push origin master\n"
   ]
  },
  {
   "cell_type": "code",
   "execution_count": null,
   "metadata": {},
   "outputs": [],
   "source": []
  }
 ],
 "metadata": {
  "kernelspec": {
   "display_name": "Python 3",
   "language": "python",
   "name": "python3"
  },
  "language_info": {
   "codemirror_mode": {
    "name": "ipython",
    "version": 3
   },
   "file_extension": ".py",
   "mimetype": "text/x-python",
   "name": "python",
   "nbconvert_exporter": "python",
   "pygments_lexer": "ipython3",
   "version": "3.7.6"
  }
 },
 "nbformat": 4,
 "nbformat_minor": 4
}
